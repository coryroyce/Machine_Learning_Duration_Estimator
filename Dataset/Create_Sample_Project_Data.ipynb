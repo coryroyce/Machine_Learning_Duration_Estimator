{
  "nbformat": 4,
  "nbformat_minor": 0,
  "metadata": {
    "colab": {
      "name": "Create_Sample_Project_Data.ipynb",
      "provenance": [],
      "collapsed_sections": [],
      "toc_visible": true
    },
    "kernelspec": {
      "name": "python3",
      "display_name": "Python 3"
    }
  },
  "cells": [
    {
      "cell_type": "markdown",
      "metadata": {
        "id": "q4-FEkuo6fO4"
      },
      "source": [
        "# Create Sample Project Data\n",
        "11/9/2020\n",
        "\n",
        "Author: Cory Randolph"
      ]
    },
    {
      "cell_type": "markdown",
      "metadata": {
        "id": "zce-HWbs6q9J"
      },
      "source": [
        "**Goal:** Create sample data that for estimating project durations with a Machine Learning Model"
      ]
    },
    {
      "cell_type": "markdown",
      "metadata": {
        "id": "_PmiJNYL7Ceg"
      },
      "source": [
        "Import packages used"
      ]
    },
    {
      "cell_type": "code",
      "metadata": {
        "id": "a6mwD11g6YqA"
      },
      "source": [
        "import pandas as pd\n",
        "import numpy as np\n",
        "from sklearn.datasets import make_regression"
      ],
      "execution_count": 1,
      "outputs": []
    },
    {
      "cell_type": "markdown",
      "metadata": {
        "id": "T-FAxU7F7JXS"
      },
      "source": [
        "Create a normally distibuted set of values that will be the project costs."
      ]
    },
    {
      "cell_type": "code",
      "metadata": {
        "id": "4pY06_Ol8CM7"
      },
      "source": [
        "from sklearn.datasets import make_regression\n",
        "from matplotlib import pyplot\n",
        "# generate regression dataset\n",
        "X, y = make_regression(n_samples=1000, n_features=1, noise=20, random_state=1)\n",
        "\n",
        "# Shift the input values to be between 0 - 1,000,000\n",
        "X = X + abs(X.min())\n",
        "X = (1_000_000/X.max())*X\n",
        "\n",
        "# Shift the predicted values to be between 0 - 300\n",
        "y = y + abs(y.min())\n",
        "y = (300/y.max())*y"
      ],
      "execution_count": 7,
      "outputs": []
    },
    {
      "cell_type": "markdown",
      "metadata": {
        "id": "Qtn4X4tmvLEL"
      },
      "source": [
        "Create a Pandas Dataframe\n",
        "\n"
      ]
    },
    {
      "cell_type": "code",
      "metadata": {
        "id": "98vEaIDGvQy2"
      },
      "source": [
        "# Convert feature values into a dataframe\n",
        "df = pd.DataFrame(X,columns=['cost'])\n",
        "df['duration'] = pd.Series(y)"
      ],
      "execution_count": 32,
      "outputs": []
    },
    {
      "cell_type": "markdown",
      "metadata": {
        "id": "NW_xarc8rSAh"
      },
      "source": [
        "Plot Data for reference\n"
      ]
    },
    {
      "cell_type": "code",
      "metadata": {
        "id": "2pZXWmyrsRco",
        "outputId": "093abae0-f625-4095-9ad9-3b4f2c478453",
        "colab": {
          "base_uri": "https://localhost:8080/",
          "height": 296
        }
      },
      "source": [
        "df.plot('cost', 'duration', kind='scatter')"
      ],
      "execution_count": 33,
      "outputs": [
        {
          "output_type": "execute_result",
          "data": {
            "text/plain": [
              "<matplotlib.axes._subplots.AxesSubplot at 0x7f14b9182a58>"
            ]
          },
          "metadata": {
            "tags": []
          },
          "execution_count": 33
        },
        {
          "output_type": "display_data",
          "data": {
            "image/png": "[encoded data removed]",
            "text/plain": [
              "<Figure size 432x288 with 1 Axes>"
            ]
          },
          "metadata": {
            "tags": [],
            "needs_background": "light"
          }
        }
      ]
    },
    {
      "cell_type": "markdown",
      "metadata": {
        "id": "Y4uo2yyoqhBt"
      },
      "source": [
        "Export Dataset to CSV file\n"
      ]
    },
    {
      "cell_type": "code",
      "metadata": {
        "id": "ITq5oCtcq4RK"
      },
      "source": [
        "df.to_csv('project_data.csv')"
      ],
      "execution_count": 34,
      "outputs": []
    },
    {
      "cell_type": "markdown",
      "metadata": {
        "id": "x1EYXjB2zuRq"
      },
      "source": [
        "Notes:\n",
        "\n",
        "\n",
        "1.   Additional Categorical features can be added in after the front-end and ML model pipeline are complete\n",
        "\n"
      ]
    },
    {
      "cell_type": "code",
      "metadata": {
        "id": "jdV6VGiv0Nv_"
      },
      "source": [
        ""
      ],
      "execution_count": null,
      "outputs": []
    }
  ]
}